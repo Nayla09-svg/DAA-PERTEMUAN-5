{
  "nbformat": 4,
  "nbformat_minor": 0,
  "metadata": {
    "colab": {
      "provenance": []
    },
    "kernelspec": {
      "name": "python3",
      "display_name": "Python 3"
    },
    "language_info": {
      "name": "python"
    }
  },
  "cells": [
    {
      "cell_type": "markdown",
      "source": [
        "**Maximum Subarray Sum (Divide & Conquer)**"
      ],
      "metadata": {
        "id": "s7KxgQv235Ut"
      }
    },
    {
      "cell_type": "code",
      "execution_count": 12,
      "metadata": {
        "colab": {
          "base_uri": "https://localhost:8080/"
        },
        "id": "3IgdkWFy3wTg",
        "outputId": "2c932f54-b35e-4500-dd5b-9cc0a89d1a52"
      },
      "outputs": [
        {
          "output_type": "stream",
          "name": "stdout",
          "text": [
            "Maximum contiguous sum is: 131\n"
          ]
        }
      ],
      "source": [
        "# Fungsi untuk mencari jumlah maksimum yang melewati tengah array\n",
        "def maxCrossingSum(arr, l, m, h):\n",
        "    sm = 0\n",
        "    left_sum = -10000\n",
        "\n",
        "    # Hitung bagian kiri dari mid\n",
        "    for i in range(m, l-1, -1):\n",
        "        sm = sm + arr[i]\n",
        "        if sm > left_sum:\n",
        "            left_sum = sm\n",
        "\n",
        "    sm = 0\n",
        "    right_sum = -1000\n",
        "    # Hitung bagian kanan dari mid\n",
        "    for i in range(m+1, h+1):\n",
        "        sm = sm + arr[i]\n",
        "        if sm > right_sum:\n",
        "            right_sum = sm\n",
        "\n",
        "    # Gabungkan hasil kiri dan kanan\n",
        "    return max(left_sum + right_sum, left_sum, right_sum)\n",
        "\n",
        "# Fungsi utama untuk mencari maximum subarray\n",
        "def maxSubArraySum(arr, l, h):\n",
        "    if l > h:\n",
        "        return -10000\n",
        "    if l == h:\n",
        "        return arr[l]\n",
        "\n",
        "    m = (l + h) // 2\n",
        "\n",
        "    return max(\n",
        "        maxSubArraySum(arr, l, m-1),   # Bagian kiri\n",
        "        maxSubArraySum(arr, m+1, h),   # Bagian kanan\n",
        "        maxCrossingSum(arr, l, m, h)   # Bagian melintasi tengah\n",
        "    )\n",
        "\n",
        "# Driver code\n",
        "arr = [4, 12, 23, 9, 21, 1, 35, 2, 24]\n",
        "n = len(arr)\n",
        "max_sum = maxSubArraySum(arr, 0, n-1)\n",
        "print(\"Maximum contiguous sum is:\", max_sum)"
      ]
    },
    {
      "cell_type": "markdown",
      "source": [
        "**2. Min dan Maks (Divide & Conquer)**"
      ],
      "metadata": {
        "id": "zDHrE0HT6kcI"
      }
    },
    {
      "cell_type": "code",
      "source": [
        "def divideAndConquer_Max(arr, ind, length):\n",
        "    if ind >= length - 1:\n",
        "        return arr[ind]\n",
        "    maximum = divideAndConquer_Max(arr, ind + 1, length)\n",
        "    if arr[ind] > maximum:\n",
        "        return arr[ind]\n",
        "    return maximum\n",
        "\n",
        "def divideAndConquer_Min(arr, ind, length):\n",
        "    if ind >= length - 1:\n",
        "        return arr[ind]\n",
        "    minimum = divideAndConquer_Min(arr, ind + 1, length)\n",
        "    if arr[ind] < minimum:\n",
        "        return arr[ind]\n",
        "    return minimum\n",
        "\n",
        "# Driver code\n",
        "arr = [6, 4, 8, 90, 12, 56, 7, 1, 63]\n",
        "n = len(arr)\n",
        "maximum = divideAndConquer_Max(arr, 0, n)\n",
        "minimum = divideAndConquer_Min(arr, 0, n)\n",
        "\n",
        "print(\"The minimum number in the array is:\", minimum)\n",
        "print(\"The maximum number in the array is:\", maximum)\n"
      ],
      "metadata": {
        "colab": {
          "base_uri": "https://localhost:8080/"
        },
        "id": "Md6dn1Td6m3Q",
        "outputId": "b0e9b6c7-fb14-404c-ba6e-7365f7061e50"
      },
      "execution_count": 13,
      "outputs": [
        {
          "output_type": "stream",
          "name": "stdout",
          "text": [
            "The minimum number in the array is: 1\n",
            "The maximum number in the array is: 90\n"
          ]
        }
      ]
    },
    {
      "cell_type": "markdown",
      "source": [
        "**3. Merge Sort**"
      ],
      "metadata": {
        "id": "t6fyMjQu62HC"
      }
    },
    {
      "cell_type": "code",
      "source": [
        "def mergeSort(array):\n",
        "    if len(array) > 1:\n",
        "        r = len(array)//2\n",
        "        L = array[:r]\n",
        "        M = array[r:]\n",
        "\n",
        "        mergeSort(L)\n",
        "        mergeSort(M)\n",
        "\n",
        "        i = j = k = 0\n",
        "\n",
        "        # Bandingkan tiap elemen di L dan M\n",
        "        while i < len(L) and j < len(M):\n",
        "            if L[i] < M[j]:\n",
        "                array[k] = L[i]\n",
        "                i += 1\n",
        "            else:\n",
        "                array[k] = M[j]\n",
        "                j += 1\n",
        "            k += 1\n",
        "\n",
        "        # Masukkan sisa elemen L\n",
        "        while i < len(L):\n",
        "            array[k] = L[i]\n",
        "            i += 1\n",
        "            k += 1\n",
        "\n",
        "        # Masukkan sisa elemen M\n",
        "        while j < len(M):\n",
        "            array[k] = M[j]\n",
        "            j += 1\n",
        "            k += 1\n",
        "\n",
        "def printList(array):\n",
        "    for i in range(len(array)):\n",
        "        print(array[i], end=\" \")\n",
        "    print()\n",
        "\n",
        "# Driver code\n",
        "array = [8, 3, 2, 9, 7, 1, 5, 4]\n",
        "print(\"Array sebelum sorting:\")\n",
        "printList(array)\n",
        "\n",
        "mergeSort(array)\n",
        "print(\"Sorted array is:\")\n",
        "printList(array)\n"
      ],
      "metadata": {
        "colab": {
          "base_uri": "https://localhost:8080/"
        },
        "id": "wsG-DdJ463wC",
        "outputId": "fc7d4411-4835-43ca-d715-a4159ca68887"
      },
      "execution_count": 14,
      "outputs": [
        {
          "output_type": "stream",
          "name": "stdout",
          "text": [
            "Array sebelum sorting:\n",
            "8 3 2 9 7 1 5 4 \n",
            "Sorted array is:\n",
            "1 2 3 4 5 7 8 9 \n"
          ]
        }
      ]
    },
    {
      "cell_type": "markdown",
      "source": [
        "**4. Insertion Sort**"
      ],
      "metadata": {
        "id": "ON4Wv44s7iCc"
      }
    },
    {
      "cell_type": "code",
      "source": [
        "# insertion sort\n",
        "def insertion_sort(arr):\n",
        "    for i in range(1, len(arr)):\n",
        "        key = arr[i]\n",
        "        j = i - 1\n",
        "        while j >= 0 and key < arr[j]:\n",
        "            arr[j + 1] = arr[j]\n",
        "            j -= 1\n",
        "        arr[j + 1] = key\n",
        "    return arr\n",
        "\n",
        "# Example usage\n",
        "arr = [4, 12, 23, 9, 21, 1, 5, 2]\n",
        "print(\"Sorted array is:\", insertion_sort(arr))\n"
      ],
      "metadata": {
        "colab": {
          "base_uri": "https://localhost:8080/"
        },
        "id": "SmGubR7z7kw8",
        "outputId": "ed2712ea-f7f4-4df8-b6b6-b145d9b36d8c"
      },
      "execution_count": 15,
      "outputs": [
        {
          "output_type": "stream",
          "name": "stdout",
          "text": [
            "Sorted array is: [1, 2, 4, 5, 9, 12, 21, 23]\n"
          ]
        }
      ]
    },
    {
      "cell_type": "markdown",
      "source": [
        "**5. Quick Sort**"
      ],
      "metadata": {
        "id": "x5ZfpZxw7poK"
      }
    },
    {
      "cell_type": "code",
      "source": [
        "# Fungsi partition\n",
        "def partition(array, low, high):\n",
        "    pivot = array[high]\n",
        "    i = low - 1\n",
        "    for j in range(low, high):\n",
        "        if array[j] <= pivot:\n",
        "            i = i + 1\n",
        "            (array[i], array[j]) = (array[j], array[i])\n",
        "    (array[i + 1], array[high]) = (array[high], array[i + 1])\n",
        "    return i + 1\n",
        "\n",
        "# Fungsi utama quicksort\n",
        "def quickSort(array, low, high):\n",
        "    if low < high:\n",
        "        pi = partition(array, low, high)\n",
        "        quickSort(array, low, pi - 1)\n",
        "        quickSort(array, pi + 1, high)\n",
        "\n",
        "data = [1, 7, 4, 1, 10, 9, -2]\n",
        "print(\"Unsorted Array:\", data)\n",
        "\n",
        "size = len(data)\n",
        "quickSort(data, 0, size - 1)\n",
        "\n",
        "print('Sorted Array in Ascending Order:')\n",
        "print(data)\n"
      ],
      "metadata": {
        "colab": {
          "base_uri": "https://localhost:8080/"
        },
        "id": "LpoBkz5B7sr_",
        "outputId": "08167acb-4fc4-42fe-8ec0-decb8d0f0879"
      },
      "execution_count": 16,
      "outputs": [
        {
          "output_type": "stream",
          "name": "stdout",
          "text": [
            "Unsorted Array: [1, 7, 4, 1, 10, 9, -2]\n",
            "Sorted Array in Ascending Order:\n",
            "[-2, 1, 1, 4, 7, 9, 10]\n"
          ]
        }
      ]
    },
    {
      "cell_type": "markdown",
      "source": [
        "**6. Hitung Inversi (Brute Force)**"
      ],
      "metadata": {
        "id": "BCUj2NRx7yvc"
      }
    },
    {
      "cell_type": "code",
      "source": [
        "# Hitung Inversi\n",
        "def countInversion(arr):\n",
        "    result = 0\n",
        "    for i in range(len(arr)):\n",
        "        for j in range(i + 1, len(arr)):\n",
        "            if arr[i] > arr[j]:\n",
        "                result += 1\n",
        "    return result\n",
        "\n",
        "arr = [21, 70, 36, 14, 25]\n",
        "result = countInversion(arr)\n",
        "print(result)\n"
      ],
      "metadata": {
        "colab": {
          "base_uri": "https://localhost:8080/"
        },
        "id": "vuxEoelf70zi",
        "outputId": "a337e992-362f-4067-e346-22f8b7d9b12b"
      },
      "execution_count": 17,
      "outputs": [
        {
          "output_type": "stream",
          "name": "stdout",
          "text": [
            "6\n"
          ]
        }
      ]
    },
    {
      "cell_type": "markdown",
      "source": [
        "**7. Hitung Inversi (Divide and Conquer)**"
      ],
      "metadata": {
        "id": "DSFHyF4W75Co"
      }
    },
    {
      "cell_type": "code",
      "source": [
        "# Hitung Inversi dengan divide and conquer\n",
        "def countInversion(arr):\n",
        "    icount = 0\n",
        "    if len(arr) <= 1:\n",
        "        return icount\n",
        "\n",
        "    mid = len(arr) // 2\n",
        "    left = arr[:mid]\n",
        "    right = arr[mid:]\n",
        "\n",
        "    icount += countInversion(left)\n",
        "    icount += countInversion(right)\n",
        "\n",
        "    i = j = k = 0\n",
        "    while i < len(left) and j < len(right):\n",
        "        if left[i] <= right[j]:\n",
        "            arr[k] = left[i]\n",
        "            i += 1\n",
        "        else:\n",
        "            arr[k] = right[j]\n",
        "            j += 1\n",
        "            icount += (mid - i)\n",
        "        k += 1\n",
        "\n",
        "    while i < len(left):\n",
        "        arr[k] = left[i]\n",
        "        i += 1\n",
        "        k += 1\n",
        "\n",
        "    while j < len(right):\n",
        "        arr[k] = right[j]\n",
        "        j += 1\n",
        "        k += 1\n",
        "\n",
        "    return icount\n",
        "\n",
        "arr = [1, 20, 6, 4, 5]\n",
        "result = countInversion(arr)\n",
        "print(result)\n"
      ],
      "metadata": {
        "colab": {
          "base_uri": "https://localhost:8080/"
        },
        "id": "4u5LtIxf768w",
        "outputId": "14e2ac1d-ecad-4e63-b912-2294fcb74043"
      },
      "execution_count": 18,
      "outputs": [
        {
          "output_type": "stream",
          "name": "stdout",
          "text": [
            "5\n"
          ]
        }
      ]
    },
    {
      "cell_type": "markdown",
      "source": [
        "**8. Kadane’s Algorithm (Tanpa Divide and Conquer)**"
      ],
      "metadata": {
        "id": "gqqgDFMv8N6I"
      }
    },
    {
      "cell_type": "code",
      "source": [
        "def maxSubSum(arr):\n",
        "    max_so_far = 0\n",
        "    max_ending_here = 0\n",
        "    for i in range(len(arr)):\n",
        "        max_ending_here += arr[i]\n",
        "        if max_ending_here > max_so_far:\n",
        "            max_so_far = max_ending_here\n",
        "        if max_ending_here < 0:\n",
        "            max_ending_here = 0\n",
        "    return max_so_far\n",
        "\n",
        "arr = [-2, -5, 6, -2, -3, 1, 5, -6]\n",
        "result = maxSubSum(arr)\n",
        "print(result)  # Output: 7\n"
      ],
      "metadata": {
        "colab": {
          "base_uri": "https://localhost:8080/"
        },
        "id": "KylnwJz-8QRL",
        "outputId": "53f67a3c-1af4-4998-a97f-c08d3807c60e"
      },
      "execution_count": 19,
      "outputs": [
        {
          "output_type": "stream",
          "name": "stdout",
          "text": [
            "7\n"
          ]
        }
      ]
    },
    {
      "cell_type": "markdown",
      "source": [
        "**9. Divide and Conquer**"
      ],
      "metadata": {
        "id": "VAfG0eCa8Vc5"
      }
    },
    {
      "cell_type": "code",
      "source": [
        "def maxCrossingSum(arr, low, mid, high):\n",
        "    result = leftSum = float('-inf')\n",
        "    sum = 0\n",
        "    for i in range(mid, low - 1, -1):\n",
        "        sum += arr[i]\n",
        "        if sum > leftSum:\n",
        "            leftSum = sum\n",
        "\n",
        "    result = rightSum = float('-inf')\n",
        "    sum = 0\n",
        "    for i in range(mid + 1, high + 1):\n",
        "        sum += arr[i]\n",
        "        if sum > rightSum:\n",
        "            rightSum = sum\n",
        "\n",
        "    return leftSum + rightSum\n",
        "\n",
        "def maxSum(arr, low, high):\n",
        "    if low == high:\n",
        "        return arr[low]\n",
        "\n",
        "    mid = (low + high) // 2\n",
        "\n",
        "    return max(\n",
        "        maxSum(arr, low, mid),\n",
        "        maxSum(arr, mid + 1, high),\n",
        "        maxCrossingSum(arr, low, mid, high)\n",
        "    )\n",
        "\n",
        "arr = [-2, -5, 6, -2, -3, 1, 5, -6]\n",
        "result = maxSum(arr, 0, len(arr) - 1)\n",
        "print(result)  # Output: 7\n"
      ],
      "metadata": {
        "colab": {
          "base_uri": "https://localhost:8080/"
        },
        "id": "8q8pQU4Q8Udm",
        "outputId": "5c361133-9225-42cb-aed6-e585d21c3ed4"
      },
      "execution_count": 20,
      "outputs": [
        {
          "output_type": "stream",
          "name": "stdout",
          "text": [
            "7\n"
          ]
        }
      ]
    },
    {
      "cell_type": "markdown",
      "source": [
        "**10. Longest Commmon Prefix**"
      ],
      "metadata": {
        "id": "hhmMlVNz9LQi"
      }
    },
    {
      "cell_type": "code",
      "source": [
        "def longestCommonPrefix(a):\n",
        "    size = len(a)\n",
        "\n",
        "    # jika ukuran 0 → return string kosong\n",
        "    if size == 0:\n",
        "        return \"\"\n",
        "\n",
        "    # jika hanya ada 1 kata → return kata itu\n",
        "    if size == 1:\n",
        "        return a[0]\n",
        "\n",
        "    # urutkan array string\n",
        "    a.sort()\n",
        "\n",
        "    # cari panjang minimal dari string pertama & terakhir\n",
        "    end = min(len(a[0]), len(a[size - 1]))\n",
        "\n",
        "    i = 0\n",
        "    while i < end and a[0][i] == a[size - 1][i]:\n",
        "        i += 1\n",
        "\n",
        "    pre = a[0][0: i]\n",
        "    return pre\n",
        "\n",
        "\n",
        "# Contoh penggunaan\n",
        "arr = [\"geeksforgeeks\", \"geeks\", \"geek\", \"geezer\"]\n",
        "print(longestCommonPrefix(arr))  # Output: gee\n",
        "\n",
        "arr = [\"apple\", \"ape\", \"april\"]\n",
        "print(longestCommonPrefix(arr))  # Output: ap\n"
      ],
      "metadata": {
        "colab": {
          "base_uri": "https://localhost:8080/"
        },
        "id": "XDEYAJn29OwL",
        "outputId": "45330acb-edd0-4418-e079-693e6788e03e"
      },
      "execution_count": 21,
      "outputs": [
        {
          "output_type": "stream",
          "name": "stdout",
          "text": [
            "gee\n",
            "ap\n"
          ]
        }
      ]
    },
    {
      "cell_type": "markdown",
      "source": [
        "**11. Median dari Dua Array Sama Ukuran (Divide and Conquer)**"
      ],
      "metadata": {
        "id": "dpqBWqKN9Sj2"
      }
    },
    {
      "cell_type": "code",
      "source": [
        "def medianOfArray(arr1, arr2, n):\n",
        "    m1 = -1  # elemen tengah pertama\n",
        "    m2 = -1  # elemen tengah kedua\n",
        "    i = j = 0\n",
        "    count = 0\n",
        "\n",
        "    while count < n:\n",
        "        count += 1\n",
        "\n",
        "        if i == n:\n",
        "            m1 = m2\n",
        "            m2 = arr2[0]\n",
        "            break\n",
        "\n",
        "        elif j == n:\n",
        "            m1 = m2\n",
        "            m2 = arr1[0]\n",
        "            break\n",
        "\n",
        "        if arr1[i] <= arr2[j]:\n",
        "            m1 = m2\n",
        "            m2 = arr1[i]\n",
        "            i += 1\n",
        "        else:\n",
        "            m1 = m2\n",
        "            m2 = arr2[j]\n",
        "            j += 1\n",
        "\n",
        "    return (m1 + m2) // 2\n",
        "\n",
        "\n",
        "# Contoh penggunaan\n",
        "arr1 = [1, 12, 15, 26, 38]\n",
        "arr2 = [2, 13, 17, 30, 45]\n",
        "print(medianOfArray(arr1, arr2, len(arr1)))  # Output: 16\n"
      ],
      "metadata": {
        "colab": {
          "base_uri": "https://localhost:8080/"
        },
        "id": "Q9h5aLbx9VyV",
        "outputId": "38b35e3f-8e9d-48bd-f435-737542fe07e1"
      },
      "execution_count": 22,
      "outputs": [
        {
          "output_type": "stream",
          "name": "stdout",
          "text": [
            "14\n"
          ]
        }
      ]
    },
    {
      "cell_type": "markdown",
      "source": [
        "**12. Median dari Dua Array Ukuran Berbeda**"
      ],
      "metadata": {
        "id": "eV2QgI7r9ZkV"
      }
    },
    {
      "cell_type": "code",
      "source": [
        "def Solution(arr):\n",
        "    n = len(arr)\n",
        "\n",
        "    # Jika jumlah elemen genap\n",
        "    if n % 2 == 0:\n",
        "        z = n // 2\n",
        "        e = arr[z]\n",
        "        q = arr[z - 1]\n",
        "        ans = (e + q) / 2\n",
        "        return ans\n",
        "    else:\n",
        "        # Jika jumlah elemen ganjil\n",
        "        z = n // 2\n",
        "        ans = arr[z]\n",
        "        return ans\n",
        "\n",
        "\n",
        "# Contoh penggunaan\n",
        "arr1 = [-5, 3, 6, 12, 15]\n",
        "arr2 = [-12, -10, -6, -3, 4, 10]\n",
        "\n",
        "# Gabungkan dua array\n",
        "arr3 = arr1 + arr2\n",
        "arr3.sort()\n",
        "\n",
        "print(\"Median =\", Solution(arr3))  # Output: 3\n"
      ],
      "metadata": {
        "colab": {
          "base_uri": "https://localhost:8080/"
        },
        "id": "PtRzRlZg9cDp",
        "outputId": "a3b47b27-0c74-480d-904c-70e488adafba"
      },
      "execution_count": 23,
      "outputs": [
        {
          "output_type": "stream",
          "name": "stdout",
          "text": [
            "Median = 3\n"
          ]
        }
      ]
    },
    {
      "cell_type": "markdown",
      "source": [
        "**13. Floor dalam Array Terurut**"
      ],
      "metadata": {
        "id": "Q1491tsk9hCd"
      }
    },
    {
      "cell_type": "code",
      "source": [
        "def floorSorted(arr, low, high, x):\n",
        "    if low > high:\n",
        "        return -1\n",
        "\n",
        "    if arr[low] > x:\n",
        "        return -1\n",
        "\n",
        "    if arr[high] <= x:\n",
        "        return arr[high]\n",
        "\n",
        "    mid = (low + high) // 2\n",
        "\n",
        "    if arr[mid] == x:\n",
        "        return arr[mid]\n",
        "\n",
        "    if mid > 0 and arr[mid-1] <= x and x < arr[mid]:\n",
        "        return arr[mid-1]\n",
        "\n",
        "    if arr[mid] > x:\n",
        "        return floorSorted(arr, low, mid-1, x)\n",
        "    else:\n",
        "        return floorSorted(arr, mid+1, high, x)\n",
        "\n",
        "\n",
        "# Contoh penggunaan\n",
        "arr = [1, 2, 8, 10, 12, 14, 19]\n",
        "x = 5\n",
        "print(floorSorted(arr, 0, len(arr)-1, x))  # Output: 2\n"
      ],
      "metadata": {
        "colab": {
          "base_uri": "https://localhost:8080/"
        },
        "id": "zHOTBBwR9o0Z",
        "outputId": "99348c09-104b-4500-b241-896787e2af0c"
      },
      "execution_count": 24,
      "outputs": [
        {
          "output_type": "stream",
          "name": "stdout",
          "text": [
            "-1\n"
          ]
        }
      ]
    },
    {
      "cell_type": "markdown",
      "source": [
        "**14. Nilai Terdekat (Closest Number)**"
      ],
      "metadata": {
        "id": "tvpagL8k964o"
      }
    },
    {
      "cell_type": "code",
      "source": [
        "def closestNumber(arr, low, high, x):\n",
        "    if low > high:\n",
        "        return -1\n",
        "    if arr[high] <= x:\n",
        "        return arr[high]\n",
        "    if arr[low] >= x:\n",
        "        return arr[low]\n",
        "    mid = (low + high) // 2\n",
        "    if arr[mid] == x:\n",
        "        return arr[mid]\n",
        "    if abs(arr[mid] - x) < abs(arr[mid - 1] - x):\n",
        "        abs_left = abs(arr[mid - 1] - x)\n",
        "        if abs_left < abs_mid:\n",
        "            return closestNumber(arr, low, mid - 1, x)\n",
        "    if mid < high:\n",
        "        abs_right = abs(arr[mid + 1] - x)\n",
        "        if abs_right < abs_mid:\n",
        "            return closestNumber(arr, mid + 1, high, x)\n",
        "    return arr[mid]\n",
        "\n",
        "arr = [2, 5, 6, 7, 8, 8, 9]\n",
        "x = 9\n",
        "print(closestNumber(arr, 0, len(arr) - 1, x))"
      ],
      "metadata": {
        "colab": {
          "base_uri": "https://localhost:8080/"
        },
        "id": "tGv_TXx798zR",
        "outputId": "b9f4013b-fadb-43cd-9bf8-d867965069f3"
      },
      "execution_count": 25,
      "outputs": [
        {
          "output_type": "stream",
          "name": "stdout",
          "text": [
            "9\n"
          ]
        }
      ]
    },
    {
      "cell_type": "markdown",
      "source": [
        "**15. Find Closest**"
      ],
      "metadata": {
        "id": "T2xdyijM-AIY"
      }
    },
    {
      "cell_type": "code",
      "source": [
        "def find_closest(lst, k):\n",
        "    lst.sort()\n",
        "    closest_num = lst[0]\n",
        "    for num in lst:\n",
        "        if abs(num - k) < abs(closest_num - k):\n",
        "            closest_num = num\n",
        "        if num > k:\n",
        "            break\n",
        "    return closest_num\n",
        "\n",
        "lst = [3.64, 5.2, 9.42, 9.35, 8.5, 8]\n",
        "k = 9.1\n",
        "print(find_closest(lst, k))  # Output: 9.35\n",
        "\n",
        "lst = [2, 5, 6, 7, 8, 8, 9]\n",
        "k = 6\n",
        "print(find_closest(lst, k))  # Output: 5"
      ],
      "metadata": {
        "colab": {
          "base_uri": "https://localhost:8080/"
        },
        "id": "-pV6O7bd-Cge",
        "outputId": "eaa6ed31-878a-490d-d4f8-e8f707af0238"
      },
      "execution_count": 26,
      "outputs": [
        {
          "output_type": "stream",
          "name": "stdout",
          "text": [
            "9.35\n",
            "6\n"
          ]
        }
      ]
    },
    {
      "cell_type": "markdown",
      "source": [
        "**16. Fixed Point**"
      ],
      "metadata": {
        "id": "23F5RivG-E32"
      }
    },
    {
      "cell_type": "code",
      "source": [
        "def fixedPoint(arr, low, high):\n",
        "    if low > high:\n",
        "        return -1\n",
        "    mid = (low + high) // 2\n",
        "    if arr[mid] == mid:\n",
        "        return mid\n",
        "    if arr[mid] < mid:\n",
        "        return fixedPoint(arr, mid + 1, high)\n",
        "    else:\n",
        "        return fixedPoint(arr, low, mid - 1)\n",
        "\n",
        "arr = [-10, -5, 0, 3, 7]\n",
        "print(fixedPoint(arr, 0, len(arr) - 1))"
      ],
      "metadata": {
        "id": "AMf6Lq0M-Gt_",
        "outputId": "8a35969d-715a-4404-f2fa-4fc8faa0d9fe",
        "colab": {
          "base_uri": "https://localhost:8080/"
        }
      },
      "execution_count": 27,
      "outputs": [
        {
          "output_type": "stream",
          "name": "stdout",
          "text": [
            "3\n"
          ]
        }
      ]
    }
  ]
}